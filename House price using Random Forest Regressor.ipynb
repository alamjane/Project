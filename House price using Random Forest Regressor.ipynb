{
 "cells": [
  {
   "cell_type": "code",
   "execution_count": 2,
   "metadata": {},
   "outputs": [],
   "source": [
    "\n",
    "import pandas as pd\n",
    "import numpy as np\n",
    "\n",
    "from sklearn.model_selection import train_test_split\n",
    "from sklearn.ensemble import RandomForestRegressor\n",
    "from sklearn.model_selection import cross_val_score\n",
    "from sklearn.metrics import mean_squared_error, mean_absolute_error, r2_score\n",
    "from math import sqrt\n",
    "import matplotlib.pyplot as plt\n",
    "%matplotlib inline\n",
    "\n",
    "# persist the model and the scaler\n",
    "import joblib\n",
    "\n",
    "# visualise al the columns in the dataframe\n",
    "pd.pandas.set_option('display.max_columns', None)\n",
    "\n",
    "%matplotlib inline\n",
    "\n",
    "import warnings\n",
    "warnings.filterwarnings('ignore')"
   ]
  },
  {
   "cell_type": "code",
   "execution_count": 3,
   "metadata": {},
   "outputs": [
    {
     "data": {
      "text/html": [
       "<div>\n",
       "<style scoped>\n",
       "    .dataframe tbody tr th:only-of-type {\n",
       "        vertical-align: middle;\n",
       "    }\n",
       "\n",
       "    .dataframe tbody tr th {\n",
       "        vertical-align: top;\n",
       "    }\n",
       "\n",
       "    .dataframe thead th {\n",
       "        text-align: right;\n",
       "    }\n",
       "</style>\n",
       "<table border=\"1\" class=\"dataframe\">\n",
       "  <thead>\n",
       "    <tr style=\"text-align: right;\">\n",
       "      <th></th>\n",
       "      <th>id</th>\n",
       "      <th>url</th>\n",
       "      <th>region</th>\n",
       "      <th>region_url</th>\n",
       "      <th>price</th>\n",
       "      <th>type</th>\n",
       "      <th>sqfeet</th>\n",
       "      <th>beds</th>\n",
       "      <th>baths</th>\n",
       "      <th>cats_allowed</th>\n",
       "      <th>dogs_allowed</th>\n",
       "      <th>smoking_allowed</th>\n",
       "      <th>wheelchair_access</th>\n",
       "      <th>electric_vehicle_charge</th>\n",
       "      <th>comes_furnished</th>\n",
       "      <th>laundry_options</th>\n",
       "      <th>parking_options</th>\n",
       "      <th>image_url</th>\n",
       "      <th>description</th>\n",
       "      <th>lat</th>\n",
       "      <th>long</th>\n",
       "      <th>state</th>\n",
       "    </tr>\n",
       "  </thead>\n",
       "  <tbody>\n",
       "    <tr>\n",
       "      <th>0</th>\n",
       "      <td>7039061606</td>\n",
       "      <td>https://bham.craigslist.org/apa/d/birmingham-h...</td>\n",
       "      <td>birmingham</td>\n",
       "      <td>https://bham.craigslist.org</td>\n",
       "      <td>1195</td>\n",
       "      <td>apartment</td>\n",
       "      <td>1908</td>\n",
       "      <td>3</td>\n",
       "      <td>2.0</td>\n",
       "      <td>1</td>\n",
       "      <td>1</td>\n",
       "      <td>1</td>\n",
       "      <td>0</td>\n",
       "      <td>0</td>\n",
       "      <td>0</td>\n",
       "      <td>laundry on site</td>\n",
       "      <td>street parking</td>\n",
       "      <td>https://images.craigslist.org/00L0L_80pNkyDeG0...</td>\n",
       "      <td>Apartments In Birmingham AL Welcome to 100 Inv...</td>\n",
       "      <td>33.4226</td>\n",
       "      <td>-86.7065</td>\n",
       "      <td>al</td>\n",
       "    </tr>\n",
       "    <tr>\n",
       "      <th>1</th>\n",
       "      <td>7041970863</td>\n",
       "      <td>https://bham.craigslist.org/apa/d/birmingham-w...</td>\n",
       "      <td>birmingham</td>\n",
       "      <td>https://bham.craigslist.org</td>\n",
       "      <td>1120</td>\n",
       "      <td>apartment</td>\n",
       "      <td>1319</td>\n",
       "      <td>3</td>\n",
       "      <td>2.0</td>\n",
       "      <td>1</td>\n",
       "      <td>1</td>\n",
       "      <td>1</td>\n",
       "      <td>0</td>\n",
       "      <td>0</td>\n",
       "      <td>0</td>\n",
       "      <td>laundry on site</td>\n",
       "      <td>off-street parking</td>\n",
       "      <td>https://images.craigslist.org/00707_uRrY9CsNMC...</td>\n",
       "      <td>Find Your Way to Haven Apartment Homes Come ho...</td>\n",
       "      <td>33.3755</td>\n",
       "      <td>-86.8045</td>\n",
       "      <td>al</td>\n",
       "    </tr>\n",
       "    <tr>\n",
       "      <th>2</th>\n",
       "      <td>7041966914</td>\n",
       "      <td>https://bham.craigslist.org/apa/d/birmingham-g...</td>\n",
       "      <td>birmingham</td>\n",
       "      <td>https://bham.craigslist.org</td>\n",
       "      <td>825</td>\n",
       "      <td>apartment</td>\n",
       "      <td>1133</td>\n",
       "      <td>1</td>\n",
       "      <td>1.5</td>\n",
       "      <td>1</td>\n",
       "      <td>1</td>\n",
       "      <td>1</td>\n",
       "      <td>0</td>\n",
       "      <td>0</td>\n",
       "      <td>0</td>\n",
       "      <td>laundry on site</td>\n",
       "      <td>street parking</td>\n",
       "      <td>https://images.craigslist.org/00h0h_b7Bdj1NLBi...</td>\n",
       "      <td>Apartments In Birmingham AL Welcome to 100 Inv...</td>\n",
       "      <td>33.4226</td>\n",
       "      <td>-86.7065</td>\n",
       "      <td>al</td>\n",
       "    </tr>\n",
       "    <tr>\n",
       "      <th>3</th>\n",
       "      <td>7041966936</td>\n",
       "      <td>https://bham.craigslist.org/apa/d/birmingham-f...</td>\n",
       "      <td>birmingham</td>\n",
       "      <td>https://bham.craigslist.org</td>\n",
       "      <td>800</td>\n",
       "      <td>apartment</td>\n",
       "      <td>927</td>\n",
       "      <td>1</td>\n",
       "      <td>1.0</td>\n",
       "      <td>1</td>\n",
       "      <td>1</td>\n",
       "      <td>1</td>\n",
       "      <td>0</td>\n",
       "      <td>0</td>\n",
       "      <td>0</td>\n",
       "      <td>laundry on site</td>\n",
       "      <td>street parking</td>\n",
       "      <td>https://images.craigslist.org/00808_6ghZ8tSRQs...</td>\n",
       "      <td>Apartments In Birmingham AL Welcome to 100 Inv...</td>\n",
       "      <td>33.4226</td>\n",
       "      <td>-86.7065</td>\n",
       "      <td>al</td>\n",
       "    </tr>\n",
       "    <tr>\n",
       "      <th>4</th>\n",
       "      <td>7041966888</td>\n",
       "      <td>https://bham.craigslist.org/apa/d/birmingham-2...</td>\n",
       "      <td>birmingham</td>\n",
       "      <td>https://bham.craigslist.org</td>\n",
       "      <td>785</td>\n",
       "      <td>apartment</td>\n",
       "      <td>1047</td>\n",
       "      <td>2</td>\n",
       "      <td>1.0</td>\n",
       "      <td>1</td>\n",
       "      <td>1</td>\n",
       "      <td>1</td>\n",
       "      <td>0</td>\n",
       "      <td>0</td>\n",
       "      <td>0</td>\n",
       "      <td>laundry on site</td>\n",
       "      <td>street parking</td>\n",
       "      <td>https://images.craigslist.org/00y0y_21c0FOvUXm...</td>\n",
       "      <td>Apartments In Birmingham AL Welcome to 100 Inv...</td>\n",
       "      <td>33.4226</td>\n",
       "      <td>-86.7065</td>\n",
       "      <td>al</td>\n",
       "    </tr>\n",
       "  </tbody>\n",
       "</table>\n",
       "</div>"
      ],
      "text/plain": [
       "           id                                                url      region  \\\n",
       "0  7039061606  https://bham.craigslist.org/apa/d/birmingham-h...  birmingham   \n",
       "1  7041970863  https://bham.craigslist.org/apa/d/birmingham-w...  birmingham   \n",
       "2  7041966914  https://bham.craigslist.org/apa/d/birmingham-g...  birmingham   \n",
       "3  7041966936  https://bham.craigslist.org/apa/d/birmingham-f...  birmingham   \n",
       "4  7041966888  https://bham.craigslist.org/apa/d/birmingham-2...  birmingham   \n",
       "\n",
       "                    region_url  price       type  sqfeet  beds  baths  \\\n",
       "0  https://bham.craigslist.org   1195  apartment    1908     3    2.0   \n",
       "1  https://bham.craigslist.org   1120  apartment    1319     3    2.0   \n",
       "2  https://bham.craigslist.org    825  apartment    1133     1    1.5   \n",
       "3  https://bham.craigslist.org    800  apartment     927     1    1.0   \n",
       "4  https://bham.craigslist.org    785  apartment    1047     2    1.0   \n",
       "\n",
       "   cats_allowed  dogs_allowed  smoking_allowed  wheelchair_access  \\\n",
       "0             1             1                1                  0   \n",
       "1             1             1                1                  0   \n",
       "2             1             1                1                  0   \n",
       "3             1             1                1                  0   \n",
       "4             1             1                1                  0   \n",
       "\n",
       "   electric_vehicle_charge  comes_furnished  laundry_options  \\\n",
       "0                        0                0  laundry on site   \n",
       "1                        0                0  laundry on site   \n",
       "2                        0                0  laundry on site   \n",
       "3                        0                0  laundry on site   \n",
       "4                        0                0  laundry on site   \n",
       "\n",
       "      parking_options                                          image_url  \\\n",
       "0      street parking  https://images.craigslist.org/00L0L_80pNkyDeG0...   \n",
       "1  off-street parking  https://images.craigslist.org/00707_uRrY9CsNMC...   \n",
       "2      street parking  https://images.craigslist.org/00h0h_b7Bdj1NLBi...   \n",
       "3      street parking  https://images.craigslist.org/00808_6ghZ8tSRQs...   \n",
       "4      street parking  https://images.craigslist.org/00y0y_21c0FOvUXm...   \n",
       "\n",
       "                                         description      lat     long state  \n",
       "0  Apartments In Birmingham AL Welcome to 100 Inv...  33.4226 -86.7065    al  \n",
       "1  Find Your Way to Haven Apartment Homes Come ho...  33.3755 -86.8045    al  \n",
       "2  Apartments In Birmingham AL Welcome to 100 Inv...  33.4226 -86.7065    al  \n",
       "3  Apartments In Birmingham AL Welcome to 100 Inv...  33.4226 -86.7065    al  \n",
       "4  Apartments In Birmingham AL Welcome to 100 Inv...  33.4226 -86.7065    al  "
      ]
     },
     "execution_count": 3,
     "metadata": {},
     "output_type": "execute_result"
    }
   ],
   "source": [
    "data = pd.read_csv(\"Downloads\\housing_train.csv\")\n",
    "\n",
    "data.head()"
   ]
  },
  {
   "cell_type": "code",
   "execution_count": 4,
   "metadata": {},
   "outputs": [
    {
     "data": {
      "text/plain": [
       "(265190, 22)"
      ]
     },
     "execution_count": 4,
     "metadata": {},
     "output_type": "execute_result"
    }
   ],
   "source": [
    "data.shape"
   ]
  },
  {
   "cell_type": "code",
   "execution_count": 5,
   "metadata": {},
   "outputs": [
    {
     "data": {
      "text/plain": [
       "Index(['id', 'url', 'region', 'region_url', 'price', 'type', 'sqfeet', 'beds',\n",
       "       'baths', 'cats_allowed', 'dogs_allowed', 'smoking_allowed',\n",
       "       'wheelchair_access', 'electric_vehicle_charge', 'comes_furnished',\n",
       "       'laundry_options', 'parking_options', 'image_url', 'description', 'lat',\n",
       "       'long', 'state'],\n",
       "      dtype='object')"
      ]
     },
     "execution_count": 5,
     "metadata": {},
     "output_type": "execute_result"
    }
   ],
   "source": [
    "data.columns"
   ]
  },
  {
   "cell_type": "code",
   "execution_count": 6,
   "metadata": {},
   "outputs": [
    {
     "data": {
      "text/plain": [
       "id                             0\n",
       "url                            0\n",
       "region                         0\n",
       "region_url                     0\n",
       "price                          0\n",
       "type                           0\n",
       "sqfeet                         0\n",
       "beds                           0\n",
       "baths                          0\n",
       "cats_allowed                   0\n",
       "dogs_allowed                   0\n",
       "smoking_allowed                0\n",
       "wheelchair_access              0\n",
       "electric_vehicle_charge        0\n",
       "comes_furnished                0\n",
       "laundry_options            54311\n",
       "parking_options            95135\n",
       "image_url                      0\n",
       "description                    2\n",
       "lat                         1419\n",
       "long                        1419\n",
       "state                          1\n",
       "dtype: int64"
      ]
     },
     "execution_count": 6,
     "metadata": {},
     "output_type": "execute_result"
    }
   ],
   "source": [
    "data.isnull().sum()"
   ]
  },
  {
   "cell_type": "code",
   "execution_count": 7,
   "metadata": {},
   "outputs": [
    {
     "data": {
      "text/plain": [
       "parking_options            0.358743\n",
       "laundry_options            0.204800\n",
       "lat                        0.005351\n",
       "long                       0.005351\n",
       "description                0.000008\n",
       "state                      0.000004\n",
       "beds                       0.000000\n",
       "url                        0.000000\n",
       "region                     0.000000\n",
       "region_url                 0.000000\n",
       "price                      0.000000\n",
       "type                       0.000000\n",
       "sqfeet                     0.000000\n",
       "dogs_allowed               0.000000\n",
       "baths                      0.000000\n",
       "cats_allowed               0.000000\n",
       "smoking_allowed            0.000000\n",
       "wheelchair_access          0.000000\n",
       "electric_vehicle_charge    0.000000\n",
       "comes_furnished            0.000000\n",
       "image_url                  0.000000\n",
       "id                         0.000000\n",
       "dtype: float64"
      ]
     },
     "execution_count": 7,
     "metadata": {},
     "output_type": "execute_result"
    }
   ],
   "source": [
    "data.isna().mean().sort_values(ascending=False)"
   ]
  },
  {
   "cell_type": "code",
   "execution_count": 8,
   "metadata": {},
   "outputs": [
    {
     "data": {
      "text/plain": [
       "<matplotlib.axes._subplots.AxesSubplot at 0x6aac8842b0>"
      ]
     },
     "execution_count": 8,
     "metadata": {},
     "output_type": "execute_result"
    },
    {
     "data": {
      "image/png": "[encoded data removed]",
      "text/plain": [
       "<Figure size 432x288 with 1 Axes>"
      ]
     },
     "metadata": {
      "needs_background": "light"
     },
     "output_type": "display_data"
    }
   ],
   "source": [
    "import seaborn as sns\n",
    "\n",
    "sns.heatmap(data.isnull(), yticklabels=False, cbar=False,cmap='coolwarm')"
   ]
  },
  {
   "cell_type": "markdown",
   "metadata": {},
   "source": [
    "#### Summary of dataset"
   ]
  },
  {
   "cell_type": "code",
   "execution_count": 9,
   "metadata": {},
   "outputs": [
    {
     "data": {
      "text/html": [
       "<div>\n",
       "<style scoped>\n",
       "    .dataframe tbody tr th:only-of-type {\n",
       "        vertical-align: middle;\n",
       "    }\n",
       "\n",
       "    .dataframe tbody tr th {\n",
       "        vertical-align: top;\n",
       "    }\n",
       "\n",
       "    .dataframe thead th {\n",
       "        text-align: right;\n",
       "    }\n",
       "</style>\n",
       "<table border=\"1\" class=\"dataframe\">\n",
       "  <thead>\n",
       "    <tr style=\"text-align: right;\">\n",
       "      <th></th>\n",
       "      <th>id</th>\n",
       "      <th>price</th>\n",
       "      <th>sqfeet</th>\n",
       "      <th>beds</th>\n",
       "      <th>baths</th>\n",
       "      <th>cats_allowed</th>\n",
       "      <th>dogs_allowed</th>\n",
       "      <th>smoking_allowed</th>\n",
       "      <th>wheelchair_access</th>\n",
       "      <th>electric_vehicle_charge</th>\n",
       "      <th>comes_furnished</th>\n",
       "      <th>lat</th>\n",
       "      <th>long</th>\n",
       "    </tr>\n",
       "  </thead>\n",
       "  <tbody>\n",
       "    <tr>\n",
       "      <th>count</th>\n",
       "      <td>2.651900e+05</td>\n",
       "      <td>2.651900e+05</td>\n",
       "      <td>2.651900e+05</td>\n",
       "      <td>265190.000000</td>\n",
       "      <td>265190.000000</td>\n",
       "      <td>265190.000000</td>\n",
       "      <td>265190.000000</td>\n",
       "      <td>265190.000000</td>\n",
       "      <td>265190.000000</td>\n",
       "      <td>265190.000000</td>\n",
       "      <td>265190.000000</td>\n",
       "      <td>263771.000000</td>\n",
       "      <td>263771.000000</td>\n",
       "    </tr>\n",
       "    <tr>\n",
       "      <th>mean</th>\n",
       "      <td>7.040888e+09</td>\n",
       "      <td>1.227285e+04</td>\n",
       "      <td>1.093678e+03</td>\n",
       "      <td>1.912414</td>\n",
       "      <td>1.483468</td>\n",
       "      <td>0.716822</td>\n",
       "      <td>0.696550</td>\n",
       "      <td>0.733896</td>\n",
       "      <td>0.078759</td>\n",
       "      <td>0.014360</td>\n",
       "      <td>0.048644</td>\n",
       "      <td>37.208855</td>\n",
       "      <td>-92.398149</td>\n",
       "    </tr>\n",
       "    <tr>\n",
       "      <th>std</th>\n",
       "      <td>8.778930e+06</td>\n",
       "      <td>5.376352e+06</td>\n",
       "      <td>2.306888e+04</td>\n",
       "      <td>3.691900</td>\n",
       "      <td>0.630208</td>\n",
       "      <td>0.450543</td>\n",
       "      <td>0.459749</td>\n",
       "      <td>0.441920</td>\n",
       "      <td>0.269362</td>\n",
       "      <td>0.118968</td>\n",
       "      <td>0.215124</td>\n",
       "      <td>5.659648</td>\n",
       "      <td>17.370780</td>\n",
       "    </tr>\n",
       "    <tr>\n",
       "      <th>min</th>\n",
       "      <td>7.003808e+09</td>\n",
       "      <td>0.000000e+00</td>\n",
       "      <td>0.000000e+00</td>\n",
       "      <td>0.000000</td>\n",
       "      <td>0.000000</td>\n",
       "      <td>0.000000</td>\n",
       "      <td>0.000000</td>\n",
       "      <td>0.000000</td>\n",
       "      <td>0.000000</td>\n",
       "      <td>0.000000</td>\n",
       "      <td>0.000000</td>\n",
       "      <td>-43.533300</td>\n",
       "      <td>-163.894000</td>\n",
       "    </tr>\n",
       "    <tr>\n",
       "      <th>25%</th>\n",
       "      <td>7.035963e+09</td>\n",
       "      <td>8.170000e+02</td>\n",
       "      <td>7.520000e+02</td>\n",
       "      <td>1.000000</td>\n",
       "      <td>1.000000</td>\n",
       "      <td>0.000000</td>\n",
       "      <td>0.000000</td>\n",
       "      <td>0.000000</td>\n",
       "      <td>0.000000</td>\n",
       "      <td>0.000000</td>\n",
       "      <td>0.000000</td>\n",
       "      <td>33.508500</td>\n",
       "      <td>-104.704000</td>\n",
       "    </tr>\n",
       "    <tr>\n",
       "      <th>50%</th>\n",
       "      <td>7.043109e+09</td>\n",
       "      <td>1.060000e+03</td>\n",
       "      <td>9.500000e+02</td>\n",
       "      <td>2.000000</td>\n",
       "      <td>1.000000</td>\n",
       "      <td>1.000000</td>\n",
       "      <td>1.000000</td>\n",
       "      <td>1.000000</td>\n",
       "      <td>0.000000</td>\n",
       "      <td>0.000000</td>\n",
       "      <td>0.000000</td>\n",
       "      <td>37.984900</td>\n",
       "      <td>-86.478300</td>\n",
       "    </tr>\n",
       "    <tr>\n",
       "      <th>75%</th>\n",
       "      <td>7.048362e+09</td>\n",
       "      <td>1.450000e+03</td>\n",
       "      <td>1.156000e+03</td>\n",
       "      <td>2.000000</td>\n",
       "      <td>2.000000</td>\n",
       "      <td>1.000000</td>\n",
       "      <td>1.000000</td>\n",
       "      <td>1.000000</td>\n",
       "      <td>0.000000</td>\n",
       "      <td>0.000000</td>\n",
       "      <td>0.000000</td>\n",
       "      <td>41.168400</td>\n",
       "      <td>-81.284600</td>\n",
       "    </tr>\n",
       "    <tr>\n",
       "      <th>max</th>\n",
       "      <td>7.051263e+09</td>\n",
       "      <td>2.768307e+09</td>\n",
       "      <td>8.388607e+06</td>\n",
       "      <td>1100.000000</td>\n",
       "      <td>75.000000</td>\n",
       "      <td>1.000000</td>\n",
       "      <td>1.000000</td>\n",
       "      <td>1.000000</td>\n",
       "      <td>1.000000</td>\n",
       "      <td>1.000000</td>\n",
       "      <td>1.000000</td>\n",
       "      <td>102.036000</td>\n",
       "      <td>172.633000</td>\n",
       "    </tr>\n",
       "  </tbody>\n",
       "</table>\n",
       "</div>"
      ],
      "text/plain": [
       "                 id         price        sqfeet           beds          baths  \\\n",
       "count  2.651900e+05  2.651900e+05  2.651900e+05  265190.000000  265190.000000   \n",
       "mean   7.040888e+09  1.227285e+04  1.093678e+03       1.912414       1.483468   \n",
       "std    8.778930e+06  5.376352e+06  2.306888e+04       3.691900       0.630208   \n",
       "min    7.003808e+09  0.000000e+00  0.000000e+00       0.000000       0.000000   \n",
       "25%    7.035963e+09  8.170000e+02  7.520000e+02       1.000000       1.000000   \n",
       "50%    7.043109e+09  1.060000e+03  9.500000e+02       2.000000       1.000000   \n",
       "75%    7.048362e+09  1.450000e+03  1.156000e+03       2.000000       2.000000   \n",
       "max    7.051263e+09  2.768307e+09  8.388607e+06    1100.000000      75.000000   \n",
       "\n",
       "        cats_allowed   dogs_allowed  smoking_allowed  wheelchair_access  \\\n",
       "count  265190.000000  265190.000000    265190.000000      265190.000000   \n",
       "mean        0.716822       0.696550         0.733896           0.078759   \n",
       "std         0.450543       0.459749         0.441920           0.269362   \n",
       "min         0.000000       0.000000         0.000000           0.000000   \n",
       "25%         0.000000       0.000000         0.000000           0.000000   \n",
       "50%         1.000000       1.000000         1.000000           0.000000   \n",
       "75%         1.000000       1.000000         1.000000           0.000000   \n",
       "max         1.000000       1.000000         1.000000           1.000000   \n",
       "\n",
       "       electric_vehicle_charge  comes_furnished            lat           long  \n",
       "count            265190.000000    265190.000000  263771.000000  263771.000000  \n",
       "mean                  0.014360         0.048644      37.208855     -92.398149  \n",
       "std                   0.118968         0.215124       5.659648      17.370780  \n",
       "min                   0.000000         0.000000     -43.533300    -163.894000  \n",
       "25%                   0.000000         0.000000      33.508500    -104.704000  \n",
       "50%                   0.000000         0.000000      37.984900     -86.478300  \n",
       "75%                   0.000000         0.000000      41.168400     -81.284600  \n",
       "max                   1.000000         1.000000     102.036000     172.633000  "
      ]
     },
     "execution_count": 9,
     "metadata": {},
     "output_type": "execute_result"
    }
   ],
   "source": [
    "data.describe()"
   ]
  },
  {
   "cell_type": "code",
   "execution_count": 10,
   "metadata": {},
   "outputs": [
    {
     "data": {
      "text/plain": [
       "<matplotlib.axes._subplots.AxesSubplot at 0x6aacb92d68>"
      ]
     },
     "execution_count": 10,
     "metadata": {},
     "output_type": "execute_result"
    },
    {
     "data": {
      "image/png": "[encoded data removed]",
      "text/plain": [
       "<Figure size 864x432 with 2 Axes>"
      ]
     },
     "metadata": {
      "needs_background": "light"
     },
     "output_type": "display_data"
    }
   ],
   "source": [
    "plt.figure(figsize=(12,6)) \n",
    "sns.heatmap(data.corr(), annot=True)"
   ]
  },
  {
   "cell_type": "markdown",
   "metadata": {},
   "source": [
    "## Data Cleaning\n",
    "\n",
    "#### Creating new features from already existing features. Also exploring the description for more insightful features"
   ]
  },
  {
   "cell_type": "code",
   "execution_count": 11,
   "metadata": {},
   "outputs": [],
   "source": [
    "data['premium_house'] = np.where((data['baths']>=data['beds'])&(data['beds']>1),1,0)\n",
    "data['pets_allowed'] = np.where((data['cats_allowed']==1)&data['dogs_allowed']==1,1,0)\n",
    "\n",
    "\n",
    "data['beds_per_sqfeet'] = data.apply(lambda x: (x.beds / x.sqfeet) if x.sqfeet != 0 else 0, axis=1)\n",
    "data['baths_per_beds'] = data.apply(lambda x: (x.baths / x.beds) if x.beds != 0 else 0, axis=1)\n",
    "\n",
    "\n",
    "data = data.dropna(subset=['description','state'],axis=0)\n",
    "\n",
    "\n",
    "data['has_pool'] = data['description'].apply(\n",
    "    lambda x: 1 if 'pool' in x.lower() \n",
    "    or 'swimming' in x.lower() \n",
    "    else 0)\n",
    "\n",
    "data['has_grill'] = data['description'].apply(\n",
    "    lambda x: 1 if 'grill' in x.lower() \n",
    "    or 'grilling' in x.lower() \n",
    "    else 0)\n",
    "\n",
    "data['has_fireplace'] = data['description'].apply(\n",
    "    lambda x: 1 if 'fireplace' in x.lower() \n",
    "    or 'fire pits' in x.lower() \n",
    "    else 0)\n",
    "\n",
    "data['gym_nearby'] = data['description'].apply(\n",
    "    lambda x: 1 if 'gym' in x.lower() \n",
    "    or 'fitness' in x.lower() \n",
    "    else 0)\n",
    "\n",
    "data['school/clg_nearby'] = data['description'].apply(\n",
    "    lambda x: 1 if 'school' in x.lower() \n",
    "    or 'college' in x.lower() \n",
    "    else 0)\n",
    "\n",
    "data['wifi_facilities'] = data['description'].apply(\n",
    "    lambda x: 1 if 'wifi' in x.lower() \n",
    "    or 'wi-fi' in x.lower() \n",
    "    else 0)\n",
    "\n",
    "data['valet_service'] = data['description'].apply(\n",
    "    lambda x: 1 if 'valet' in x.lower() \n",
    "    else 0)\n",
    "\n",
    "data['shopping_nearby'] = data['description'].apply(\n",
    "    lambda x: 1 if 'shopping' in x.lower() \n",
    "    else 0)\n",
    "\n",
    "data['sports_playground'] = data['description'].apply(\n",
    "    lambda x: 1 if 'sport' in x.lower()  \n",
    "    or 'sports' in x.lower() \n",
    "    or 'tennis' in x.lower() \n",
    "    or 'soccer' in x.lower() \n",
    "    or 'soccers' in x.lower() \n",
    "    or 'court' in x.lower() \n",
    "    else 0)\n",
    "\n",
    "data['dining_nearby'] = data['description'].apply(\n",
    "    lambda x: 1 if 'dining' in x.lower() \n",
    "    else 0)"
   ]
  },
  {
   "cell_type": "markdown",
   "metadata": {},
   "source": [
    "## Outliers\n",
    "\n",
    "#### In EDA, we decided to remove outliers according to the upper and lower bound of its interquartile range."
   ]
  },
  {
   "cell_type": "code",
   "execution_count": 12,
   "metadata": {},
   "outputs": [
    {
     "data": {
      "image/png": "[encoded data removed]",
      "text/plain": [
       "<Figure size 432x288 with 1 Axes>"
      ]
     },
     "metadata": {
      "needs_background": "light"
     },
     "output_type": "display_data"
    },
    {
     "data": {
      "image/png": "[encoded data removed]",
      "text/plain": [
       "<Figure size 432x288 with 1 Axes>"
      ]
     },
     "metadata": {
      "needs_background": "light"
     },
     "output_type": "display_data"
    },
    {
     "data": {
      "image/png": "[encoded data removed]",
      "text/plain": [
       "<Figure size 432x288 with 1 Axes>"
      ]
     },
     "metadata": {
      "needs_background": "light"
     },
     "output_type": "display_data"
    },
    {
     "data": {
      "image/png": "[encoded data removed]",
      "text/plain": [
       "<Figure size 432x288 with 1 Axes>"
      ]
     },
     "metadata": {
      "needs_background": "light"
     },
     "output_type": "display_data"
    }
   ],
   "source": [
    "import seaborn as sns\n",
    "\n",
    "# let's make boxplots to visualise outliers in the continuous variables\n",
    "\n",
    "out_vars = ['price','sqfeet','beds','baths']\n",
    "\n",
    "def find_outliers(df, var):\n",
    "    df = df.copy()\n",
    "\n",
    "    # log transform the variable\n",
    "    df[var] = np.log1p(df[var])\n",
    "    ax = sns.boxplot(x=data[var], palette=\"muted\", orient=\"vertical\")\n",
    "    plt.title(var)\n",
    "    plt.ylabel(var)\n",
    "    plt.show()\n",
    "\n",
    "\n",
    "for var in out_vars:\n",
    "    find_outliers(data, var)"
   ]
  },
  {
   "cell_type": "code",
   "execution_count": 13,
   "metadata": {},
   "outputs": [],
   "source": [
    "outliers_vars = ['sqfeet', 'price', 'beds', 'baths']"
   ]
  },
  {
   "cell_type": "code",
   "execution_count": 14,
   "metadata": {},
   "outputs": [],
   "source": [
    "def out_iqr(df , column):\n",
    "    global lower,upper\n",
    "    q25, q75 = np.quantile(df[column], 0.25), np.quantile(df[column], 0.75)\n",
    "    # calculate the IQR\n",
    "    iqr = q75 - q25\n",
    "    # calculate the outlier cutoff\n",
    "    cut_off = iqr * 1.5\n",
    "    # calculate the lower and upper bound value\n",
    "    return np.ceil(q25 - cut_off), np.ceil(q75 + cut_off)\n",
    "#     return lower, upper"
   ]
  },
  {
   "cell_type": "code",
   "execution_count": 15,
   "metadata": {},
   "outputs": [],
   "source": [
    "for var in outliers_vars:\n",
    "    _, upper = out_iqr(data, var)\n",
    "    lower = 1\n",
    "    data = data[(data[var] <= upper) & (data[var] >= lower)]"
   ]
  },
  {
   "cell_type": "markdown",
   "metadata": {},
   "source": [
    "## Categorical variables\n",
    "#### For categorical variables, we will replace missing values with the mode of relevant features"
   ]
  },
  {
   "cell_type": "code",
   "execution_count": 16,
   "metadata": {},
   "outputs": [
    {
     "data": {
      "text/plain": [
       "Index(['id', 'url', 'region', 'region_url', 'price', 'type', 'sqfeet', 'beds',\n",
       "       'baths', 'cats_allowed', 'dogs_allowed', 'smoking_allowed',\n",
       "       'wheelchair_access', 'electric_vehicle_charge', 'comes_furnished',\n",
       "       'laundry_options', 'parking_options', 'image_url', 'description', 'lat',\n",
       "       'long', 'state', 'premium_house', 'pets_allowed', 'beds_per_sqfeet',\n",
       "       'baths_per_beds', 'has_pool', 'has_grill', 'has_fireplace',\n",
       "       'gym_nearby', 'school/clg_nearby', 'wifi_facilities', 'valet_service',\n",
       "       'shopping_nearby', 'sports_playground', 'dining_nearby'],\n",
       "      dtype='object')"
      ]
     },
     "execution_count": 16,
     "metadata": {},
     "output_type": "execute_result"
    }
   ],
   "source": [
    "data.columns"
   ]
  },
  {
   "cell_type": "code",
   "execution_count": 17,
   "metadata": {},
   "outputs": [
    {
     "data": {
      "text/plain": [
       "parking_options            0.368638\n",
       "laundry_options            0.205216\n",
       "lat                        0.004608\n",
       "long                       0.004608\n",
       "cats_allowed               0.000000\n",
       "comes_furnished            0.000000\n",
       "electric_vehicle_charge    0.000000\n",
       "wheelchair_access          0.000000\n",
       "smoking_allowed            0.000000\n",
       "dogs_allowed               0.000000\n",
       "dining_nearby              0.000000\n",
       "beds                       0.000000\n",
       "sqfeet                     0.000000\n",
       "type                       0.000000\n",
       "price                      0.000000\n",
       "region_url                 0.000000\n",
       "region                     0.000000\n",
       "url                        0.000000\n",
       "baths                      0.000000\n",
       "image_url                  0.000000\n",
       "sports_playground          0.000000\n",
       "description                0.000000\n",
       "state                      0.000000\n",
       "premium_house              0.000000\n",
       "pets_allowed               0.000000\n",
       "beds_per_sqfeet            0.000000\n",
       "baths_per_beds             0.000000\n",
       "has_pool                   0.000000\n",
       "has_grill                  0.000000\n",
       "has_fireplace              0.000000\n",
       "gym_nearby                 0.000000\n",
       "school/clg_nearby          0.000000\n",
       "wifi_facilities            0.000000\n",
       "valet_service              0.000000\n",
       "shopping_nearby            0.000000\n",
       "id                         0.000000\n",
       "dtype: float64"
      ]
     },
     "execution_count": 17,
     "metadata": {},
     "output_type": "execute_result"
    }
   ],
   "source": [
    "data.isna().mean().sort_values(ascending=False)"
   ]
  },
  {
   "cell_type": "code",
   "execution_count": 18,
   "metadata": {},
   "outputs": [],
   "source": [
    "# make a list of the categorical variables that contain missing values\n",
    "cat_var_na = ['laundry_options', 'parking_options']"
   ]
  },
  {
   "cell_type": "code",
   "execution_count": 19,
   "metadata": {},
   "outputs": [
    {
     "data": {
      "text/plain": [
       "laundry_options    0\n",
       "parking_options    0\n",
       "dtype: int64"
      ]
     },
     "execution_count": 19,
     "metadata": {},
     "output_type": "execute_result"
    }
   ],
   "source": [
    "def impute_missing_cat(data, vars, replace_by='type'):\n",
    "    for var in vars:\n",
    "        data[var] = data.groupby(replace_by)[var].transform(\n",
    "                    lambda x: x.fillna(x.mode()[0]))\n",
    "    return data\n",
    "\n",
    "data = impute_missing_cat(data,cat_var_na)\n",
    "\n",
    "\n",
    "# check that we have no missing information in the engineered variables\n",
    "data[cat_var_na].isnull().sum()"
   ]
  },
  {
   "cell_type": "code",
   "execution_count": 20,
   "metadata": {},
   "outputs": [],
   "source": [
    "# make a list of the numerical variables that contain missing values:\n",
    "num_var_na = ['lat', 'long']"
   ]
  },
  {
   "cell_type": "code",
   "execution_count": 21,
   "metadata": {},
   "outputs": [
    {
     "data": {
      "text/plain": [
       "lat     0\n",
       "long    0\n",
       "dtype: int64"
      ]
     },
     "execution_count": 21,
     "metadata": {},
     "output_type": "execute_result"
    }
   ],
   "source": [
    "# replace missing values by the mean\n",
    "for var in num_var_na:\n",
    "    data[var] = data.groupby('region')[var].transform(\n",
    "                    lambda x: x.fillna(x.mode()[0]))\n",
    "    \n",
    "# check that we have no missing information in the engineered variables\n",
    "data[num_var_na].isnull().sum()"
   ]
  },
  {
   "cell_type": "code",
   "execution_count": 22,
   "metadata": {},
   "outputs": [],
   "source": [
    "for var in ['price','sqfeet','baths_per_beds','beds_per_sqfeet']:\n",
    "    data[var] = np.log(data[var])"
   ]
  },
  {
   "cell_type": "code",
   "execution_count": 23,
   "metadata": {},
   "outputs": [
    {
     "data": {
      "text/plain": [
       "[]"
      ]
     },
     "execution_count": 23,
     "metadata": {},
     "output_type": "execute_result"
    }
   ],
   "source": [
    "# check that data set does not contain null values in the engineered variables\n",
    "[var for var in ['price','sqfeet','baths_per_beds','beds_per_sqfeet'] if data[var].isnull().sum() > 0]"
   ]
  },
  {
   "cell_type": "code",
   "execution_count": 24,
   "metadata": {},
   "outputs": [],
   "source": [
    "# let's capture the categorical variables in a list\n",
    "\n",
    "cat_vars = ['region', 'type', 'laundry_options', 'parking_options', 'state']"
   ]
  },
  {
   "cell_type": "code",
   "execution_count": 25,
   "metadata": {},
   "outputs": [],
   "source": [
    "def find_frequent_labels(df, var, rare_perc):\n",
    "    \n",
    "    # function finds the labels that are shared by more than\n",
    "    # a certain % of the houses in the dataset\n",
    "\n",
    "    df = df.copy()\n",
    "\n",
    "    tmp = df.groupby(var)['price'].count() / len(df)\n",
    "\n",
    "    return tmp[tmp > rare_perc].index\n",
    "\n",
    "\n",
    "for var in cat_vars:\n",
    "    \n",
    "    # find the frequent categories\n",
    "    frequent_ls = find_frequent_labels(data, var, 0.01)\n",
    "    # replace rare categories by the string \"Rare\"\n",
    "    data[var] = np.where(data[var].isin(\n",
    "        frequent_ls), data[var], 'Rare')"
   ]
  },
  {
   "cell_type": "markdown",
   "metadata": {},
   "source": [
    "## Encoding of categorical variables"
   ]
  },
  {
   "cell_type": "code",
   "execution_count": 26,
   "metadata": {},
   "outputs": [],
   "source": [
    "# this function will assign discrete values to the strings of the variables,\n",
    "# so that the smaller value corresponds to the category that shows the smaller\n",
    "# mean house sale price\n",
    "\n",
    "\n",
    "def replace_categories(data, var, target):\n",
    "\n",
    "    # order the categories in a variable from that with the lowest\n",
    "    # house sale price, to that with the highest\n",
    "    ordered_labels = data.groupby([var])[target].mean().sort_values().index\n",
    "    # create a dictionary of ordered categories to integer values\n",
    "    ordinal_label = {k: i for i, k in enumerate(ordered_labels, 0)}\n",
    "    # use the dictionary to replace the categorical strings by integers\n",
    "    data[var] = data[var].map(ordinal_label)"
   ]
  },
  {
   "cell_type": "code",
   "execution_count": 27,
   "metadata": {},
   "outputs": [
    {
     "data": {
      "text/plain": [
       "Index(['id', 'url', 'region', 'region_url', 'price', 'type', 'sqfeet', 'beds',\n",
       "       'baths', 'cats_allowed', 'dogs_allowed', 'smoking_allowed',\n",
       "       'wheelchair_access', 'electric_vehicle_charge', 'comes_furnished',\n",
       "       'laundry_options', 'parking_options', 'image_url', 'description', 'lat',\n",
       "       'long', 'state', 'premium_house', 'pets_allowed', 'beds_per_sqfeet',\n",
       "       'baths_per_beds', 'has_pool', 'has_grill', 'has_fireplace',\n",
       "       'gym_nearby', 'school/clg_nearby', 'wifi_facilities', 'valet_service',\n",
       "       'shopping_nearby', 'sports_playground', 'dining_nearby'],\n",
       "      dtype='object')"
      ]
     },
     "execution_count": 27,
     "metadata": {},
     "output_type": "execute_result"
    }
   ],
   "source": [
    "for var in cat_vars:\n",
    "    replace_categories(data, var, 'price')\n",
    "\n",
    "# check absence of na in the train set\n",
    "[var for var in data.columns if data[var].isnull().sum() > 0]\n",
    "\n",
    "data.columns"
   ]
  },
  {
   "cell_type": "code",
   "execution_count": 28,
   "metadata": {},
   "outputs": [
    {
     "data": {
      "text/html": [
       "<div>\n",
       "<style scoped>\n",
       "    .dataframe tbody tr th:only-of-type {\n",
       "        vertical-align: middle;\n",
       "    }\n",
       "\n",
       "    .dataframe tbody tr th {\n",
       "        vertical-align: top;\n",
       "    }\n",
       "\n",
       "    .dataframe thead th {\n",
       "        text-align: right;\n",
       "    }\n",
       "</style>\n",
       "<table border=\"1\" class=\"dataframe\">\n",
       "  <thead>\n",
       "    <tr style=\"text-align: right;\">\n",
       "      <th></th>\n",
       "      <th>region</th>\n",
       "      <th>price</th>\n",
       "      <th>type</th>\n",
       "      <th>sqfeet</th>\n",
       "      <th>smoking_allowed</th>\n",
       "      <th>wheelchair_access</th>\n",
       "      <th>electric_vehicle_charge</th>\n",
       "      <th>comes_furnished</th>\n",
       "      <th>laundry_options</th>\n",
       "      <th>parking_options</th>\n",
       "      <th>lat</th>\n",
       "      <th>long</th>\n",
       "      <th>state</th>\n",
       "      <th>premium_house</th>\n",
       "      <th>pets_allowed</th>\n",
       "      <th>beds_per_sqfeet</th>\n",
       "      <th>baths_per_beds</th>\n",
       "      <th>has_pool</th>\n",
       "      <th>has_grill</th>\n",
       "      <th>has_fireplace</th>\n",
       "      <th>gym_nearby</th>\n",
       "      <th>school/clg_nearby</th>\n",
       "      <th>wifi_facilities</th>\n",
       "      <th>valet_service</th>\n",
       "      <th>shopping_nearby</th>\n",
       "      <th>sports_playground</th>\n",
       "      <th>dining_nearby</th>\n",
       "    </tr>\n",
       "  </thead>\n",
       "  <tbody>\n",
       "    <tr>\n",
       "      <th>1</th>\n",
       "      <td>7</td>\n",
       "      <td>7.021084</td>\n",
       "      <td>3</td>\n",
       "      <td>7.184629</td>\n",
       "      <td>1</td>\n",
       "      <td>0</td>\n",
       "      <td>0</td>\n",
       "      <td>0</td>\n",
       "      <td>1</td>\n",
       "      <td>0</td>\n",
       "      <td>33.3755</td>\n",
       "      <td>-86.8045</td>\n",
       "      <td>7</td>\n",
       "      <td>0</td>\n",
       "      <td>1</td>\n",
       "      <td>-6.086017</td>\n",
       "      <td>-0.405465</td>\n",
       "      <td>0</td>\n",
       "      <td>0</td>\n",
       "      <td>0</td>\n",
       "      <td>0</td>\n",
       "      <td>1</td>\n",
       "      <td>0</td>\n",
       "      <td>0</td>\n",
       "      <td>1</td>\n",
       "      <td>0</td>\n",
       "      <td>0</td>\n",
       "    </tr>\n",
       "    <tr>\n",
       "      <th>2</th>\n",
       "      <td>7</td>\n",
       "      <td>6.715383</td>\n",
       "      <td>3</td>\n",
       "      <td>7.032624</td>\n",
       "      <td>1</td>\n",
       "      <td>0</td>\n",
       "      <td>0</td>\n",
       "      <td>0</td>\n",
       "      <td>1</td>\n",
       "      <td>1</td>\n",
       "      <td>33.4226</td>\n",
       "      <td>-86.7065</td>\n",
       "      <td>7</td>\n",
       "      <td>0</td>\n",
       "      <td>1</td>\n",
       "      <td>-7.032624</td>\n",
       "      <td>0.405465</td>\n",
       "      <td>1</td>\n",
       "      <td>1</td>\n",
       "      <td>1</td>\n",
       "      <td>1</td>\n",
       "      <td>1</td>\n",
       "      <td>0</td>\n",
       "      <td>1</td>\n",
       "      <td>1</td>\n",
       "      <td>1</td>\n",
       "      <td>1</td>\n",
       "    </tr>\n",
       "    <tr>\n",
       "      <th>3</th>\n",
       "      <td>7</td>\n",
       "      <td>6.684612</td>\n",
       "      <td>3</td>\n",
       "      <td>6.831954</td>\n",
       "      <td>1</td>\n",
       "      <td>0</td>\n",
       "      <td>0</td>\n",
       "      <td>0</td>\n",
       "      <td>1</td>\n",
       "      <td>1</td>\n",
       "      <td>33.4226</td>\n",
       "      <td>-86.7065</td>\n",
       "      <td>7</td>\n",
       "      <td>0</td>\n",
       "      <td>1</td>\n",
       "      <td>-6.831954</td>\n",
       "      <td>0.000000</td>\n",
       "      <td>1</td>\n",
       "      <td>1</td>\n",
       "      <td>1</td>\n",
       "      <td>1</td>\n",
       "      <td>1</td>\n",
       "      <td>0</td>\n",
       "      <td>1</td>\n",
       "      <td>1</td>\n",
       "      <td>1</td>\n",
       "      <td>1</td>\n",
       "    </tr>\n",
       "    <tr>\n",
       "      <th>4</th>\n",
       "      <td>7</td>\n",
       "      <td>6.665684</td>\n",
       "      <td>3</td>\n",
       "      <td>6.953684</td>\n",
       "      <td>1</td>\n",
       "      <td>0</td>\n",
       "      <td>0</td>\n",
       "      <td>0</td>\n",
       "      <td>1</td>\n",
       "      <td>1</td>\n",
       "      <td>33.4226</td>\n",
       "      <td>-86.7065</td>\n",
       "      <td>7</td>\n",
       "      <td>0</td>\n",
       "      <td>1</td>\n",
       "      <td>-6.260537</td>\n",
       "      <td>-0.693147</td>\n",
       "      <td>1</td>\n",
       "      <td>1</td>\n",
       "      <td>1</td>\n",
       "      <td>1</td>\n",
       "      <td>1</td>\n",
       "      <td>0</td>\n",
       "      <td>1</td>\n",
       "      <td>1</td>\n",
       "      <td>1</td>\n",
       "      <td>1</td>\n",
       "    </tr>\n",
       "    <tr>\n",
       "      <th>5</th>\n",
       "      <td>7</td>\n",
       "      <td>6.802395</td>\n",
       "      <td>3</td>\n",
       "      <td>7.168580</td>\n",
       "      <td>1</td>\n",
       "      <td>0</td>\n",
       "      <td>0</td>\n",
       "      <td>0</td>\n",
       "      <td>1</td>\n",
       "      <td>1</td>\n",
       "      <td>33.4226</td>\n",
       "      <td>-86.7065</td>\n",
       "      <td>7</td>\n",
       "      <td>1</td>\n",
       "      <td>1</td>\n",
       "      <td>-6.475433</td>\n",
       "      <td>0.000000</td>\n",
       "      <td>1</td>\n",
       "      <td>1</td>\n",
       "      <td>1</td>\n",
       "      <td>0</td>\n",
       "      <td>1</td>\n",
       "      <td>0</td>\n",
       "      <td>1</td>\n",
       "      <td>1</td>\n",
       "      <td>1</td>\n",
       "      <td>1</td>\n",
       "    </tr>\n",
       "  </tbody>\n",
       "</table>\n",
       "</div>"
      ],
      "text/plain": [
       "   region     price  type    sqfeet  smoking_allowed  wheelchair_access  \\\n",
       "1       7  7.021084     3  7.184629                1                  0   \n",
       "2       7  6.715383     3  7.032624                1                  0   \n",
       "3       7  6.684612     3  6.831954                1                  0   \n",
       "4       7  6.665684     3  6.953684                1                  0   \n",
       "5       7  6.802395     3  7.168580                1                  0   \n",
       "\n",
       "   electric_vehicle_charge  comes_furnished  laundry_options  parking_options  \\\n",
       "1                        0                0                1                0   \n",
       "2                        0                0                1                1   \n",
       "3                        0                0                1                1   \n",
       "4                        0                0                1                1   \n",
       "5                        0                0                1                1   \n",
       "\n",
       "       lat     long  state  premium_house  pets_allowed  beds_per_sqfeet  \\\n",
       "1  33.3755 -86.8045      7              0             1        -6.086017   \n",
       "2  33.4226 -86.7065      7              0             1        -7.032624   \n",
       "3  33.4226 -86.7065      7              0             1        -6.831954   \n",
       "4  33.4226 -86.7065      7              0             1        -6.260537   \n",
       "5  33.4226 -86.7065      7              1             1        -6.475433   \n",
       "\n",
       "   baths_per_beds  has_pool  has_grill  has_fireplace  gym_nearby  \\\n",
       "1       -0.405465         0          0              0           0   \n",
       "2        0.405465         1          1              1           1   \n",
       "3        0.000000         1          1              1           1   \n",
       "4       -0.693147         1          1              1           1   \n",
       "5        0.000000         1          1              1           0   \n",
       "\n",
       "   school/clg_nearby  wifi_facilities  valet_service  shopping_nearby  \\\n",
       "1                  1                0              0                1   \n",
       "2                  1                0              1                1   \n",
       "3                  1                0              1                1   \n",
       "4                  1                0              1                1   \n",
       "5                  1                0              1                1   \n",
       "\n",
       "   sports_playground  dining_nearby  \n",
       "1                  0              0  \n",
       "2                  1              1  \n",
       "3                  1              1  \n",
       "4                  1              1  \n",
       "5                  1              1  "
      ]
     },
     "execution_count": 28,
     "metadata": {},
     "output_type": "execute_result"
    }
   ],
   "source": [
    "features = ['region', 'price', 'type', 'sqfeet', 'smoking_allowed', 'wheelchair_access', 'electric_vehicle_charge', \n",
    "            'comes_furnished', 'laundry_options', 'parking_options','lat', 'long', 'state', \n",
    "            'premium_house', 'pets_allowed', 'beds_per_sqfeet', 'baths_per_beds', 'has_pool', 'has_grill', \n",
    "            'has_fireplace', 'gym_nearby', 'school/clg_nearby', 'wifi_facilities', 'valet_service', 'shopping_nearby', \n",
    "            'sports_playground', 'dining_nearby']\n",
    "\n",
    "data_final = data[features].copy()\n",
    "data_final.head()"
   ]
  },
  {
   "cell_type": "code",
   "execution_count": 29,
   "metadata": {},
   "outputs": [],
   "source": [
    "X_train, X_test, y_train, y_test = train_test_split(\n",
    "                                    data_final.drop('price',axis=1),\n",
    "                                    data_final['price'],\n",
    "                                    test_size=0.25,\n",
    "                                    random_state=0)"
   ]
  },
  {
   "cell_type": "markdown",
   "metadata": {},
   "source": [
    "## Random Forest Regressor\n",
    "#### Model Training"
   ]
  },
  {
   "cell_type": "code",
   "execution_count": 30,
   "metadata": {},
   "outputs": [
    {
     "data": {
      "text/plain": [
       "RandomForestRegressor(bootstrap=True, ccp_alpha=0.0, criterion='mse',\n",
       "                      max_depth=None, max_features='auto', max_leaf_nodes=None,\n",
       "                      max_samples=None, min_impurity_decrease=0.0,\n",
       "                      min_impurity_split=None, min_samples_leaf=1,\n",
       "                      min_samples_split=2, min_weight_fraction_leaf=0.0,\n",
       "                      n_estimators=200, n_jobs=None, oob_score=False,\n",
       "                      random_state=101, verbose=0, warm_start=False)"
      ]
     },
     "execution_count": 30,
     "metadata": {},
     "output_type": "execute_result"
    }
   ],
   "source": [
    "# set up the model\n",
    "# remember to set the random_state / seed\n",
    "\n",
    "rf = RandomForestRegressor(n_estimators=200,\n",
    "                           random_state=101)\n",
    "\n",
    "# train the model\n",
    "rf.fit(X_train, y_train)"
   ]
  },
  {
   "cell_type": "code",
   "execution_count": 31,
   "metadata": {},
   "outputs": [],
   "source": [
    "rf_pred_train = rf.predict(X_train)\n",
    "rf_pred_test = rf.predict(X_test)"
   ]
  },
  {
   "cell_type": "code",
   "execution_count": 32,
   "metadata": {},
   "outputs": [
    {
     "name": "stdout",
     "output_type": "stream",
     "text": [
      "Random Forest Performance:\n",
      "\n",
      "all features, No scaling(train):\n",
      "Train MSE: 3691.2651546166044\n",
      "Train RMSE: 0.08523850418318868\n",
      "Train MAE: 0.027639693493224614\n",
      "R2_Score:  0.969464533025093\n",
      "\n",
      "all features, No scaling(test):\n",
      "Test MSE: 18163.352935010415\n",
      "Test RMSE: 0.18750125675971663\n",
      "Test MAE: 0.060049025843388636\n",
      "R2_Score:  0.8532812813885348\n"
     ]
    },
    {
     "data": {
      "image/png": "[encoded data removed]",
      "text/plain": [
       "<Figure size 864x432 with 1 Axes>"
      ]
     },
     "metadata": {
      "needs_background": "light"
     },
     "output_type": "display_data"
    }
   ],
   "source": [
    "print('Random Forest Performance:')\n",
    "\n",
    "print('\\nall features, No scaling(train):')\n",
    "print('Train MSE:', mean_squared_error(np.exp(y_train), np.exp(rf_pred_train)))\n",
    "print('Train RMSE:', np.sqrt(mean_squared_error(y_train, rf_pred_train)))\n",
    "print('Train MAE:', mean_absolute_error(y_train, rf_pred_train))\n",
    "print('R2_Score: ', r2_score(y_train, rf_pred_train))\n",
    "\n",
    "print('\\nall features, No scaling(test):')\n",
    "print('Test MSE:', mean_squared_error(np.exp(y_test), np.exp(rf_pred_test)))\n",
    "print('Test RMSE:', np.sqrt(mean_squared_error(y_test, rf_pred_test)))\n",
    "print('Test MAE:', mean_absolute_error(y_test, rf_pred_test))\n",
    "print('R2_Score: ', r2_score(y_test, rf_pred_test))\n",
    "\n",
    "\n",
    "# pred = pd.DataFrame(data={'Predicted_Rent': np.exp(rf_pred_test), 'Actual_Rent': np.exp(y_test)})\n",
    "\n",
    "fig = plt.figure(figsize=(12, 6))\n",
    "ax1 = fig.add_subplot(111)\n",
    "ax1.scatter(np.exp(y_test), np.exp(rf_pred_test), color='tab:green', marker=\".\", label='Predicted')\n",
    "ax1.scatter(np.exp(y_test), np.exp(y_test), s=10, color='tab:orange', marker=\"s\", label='Actual')\n",
    "\n",
    "\n",
    "plt.xlabel('Actual Rent')\n",
    "plt.ylabel('Predicted Rent')\n",
    "plt.legend(loc='upper left');\n",
    "plt.grid()\n",
    "plt.show()"
   ]
  },
  {
   "cell_type": "markdown",
   "metadata": {},
   "source": [
    "## Thank You"
   ]
  },
  {
   "cell_type": "code",
   "execution_count": null,
   "metadata": {},
   "outputs": [],
   "source": []
  }
 ],
 "metadata": {
  "kernelspec": {
   "display_name": "Python 3",
   "language": "python",
   "name": "python3"
  },
  "language_info": {
   "codemirror_mode": {
    "name": "ipython",
    "version": 3
   },
   "file_extension": ".py",
   "mimetype": "text/x-python",
   "name": "python",
   "nbconvert_exporter": "python",
   "pygments_lexer": "ipython3",
   "version": "3.7.3"
  }
 },
 "nbformat": 4,
 "nbformat_minor": 2
}
